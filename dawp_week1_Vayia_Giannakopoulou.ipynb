{
  "cells": [
    {
      "cell_type": "markdown",
      "id": "f8b337ed",
      "metadata": {
        "id": "f8b337ed"
      },
      "source": [
        "# ΕΚΔΔΑ - ΑΝΑΛΥΣΗ ΔΕΔΟΜΕΝΩΝ ΜΕ ΤΗ ΓΛΩΣΣΑ ΠΡΟΓΡΑΜΜΑΤΙΣΜΟΥ PYTHON\n",
        "\n",
        "Ονοματεπώνυμο επιμορφούμενου: [Βάγια Γιαννακοπουλου]\n",
        "\n",
        "## Εβδομάδα 1"
      ]
    },
    {
      "cell_type": "markdown",
      "id": "3fc2a81b",
      "metadata": {
        "id": "3fc2a81b"
      },
      "source": [
        "### Αριθμητικές πράξεις - είσοδος/έξοδος - εντολή if\n",
        "1.1 Γράψτε κώδικα που για έναν κύλινδρο να δέχεται την ακτίνα της βάσης του ($r$) και το ύψος του ($h$), ενώ για έναν κύβο να δέχεται το μήκος της πλευράς του ($a$). Να υπολογίζει και να εμφανίζει τον όγκο των δύο σχημάτων και να εμφανίζει μήνυμα για το ποιο σχήμα από τα δύο έχει μεγαλύτερο όγκο και κατά πόσο επί τοις εκατό σε σχέση με το μικρότερο.\n",
        "\n",
        "Παρατήρηση:\n",
        "- Ο όγκος ενός κυλίνδρου δίνεται από τον τύπο: $V_{cylinder} = \\pi * r^2 * h$\n",
        "- Ο όγκος ενός κύβου πλευράς $a$ δίνεται από τον τύπο $V_{cube} = a^3$"
      ]
    },
    {
      "cell_type": "code",
      "execution_count": null,
      "id": "c-gdNBcdSZQU",
      "metadata": {
        "colab": {
          "base_uri": "https://localhost:8080/"
        },
        "id": "c-gdNBcdSZQU",
        "outputId": "3cc65efb-1b8a-49c8-f596-65e2127e1e50"
      },
      "outputs": [
        {
          "name": "stdout",
          "output_type": "stream",
          "text": [
            "Enter the radius of the cylinder: 10\n",
            "Enter the height of the cylinder: 10\n",
            "Enter the side length of the cube: 10\n",
            "\n",
            "Volume of the cylinder: 3141.59\n",
            "Volume of the cube: 1000.00\n",
            "\n",
            "Cylinder has a larger volume than the cube by 214.16%.\n"
          ]
        }
      ],
      "source": [
        "# Λύση 1.1\n",
        "import math\n",
        "\n",
        "# Λήψη εισόδου για τον κύλινδρο\n",
        "r = float(input(\"Enter the radius of the cylinder: \"))\n",
        "h = float(input(\"Enter the height of the cylinder: \"))\n",
        "\n",
        "# Υπολογισμός όγκου κυλίνδρου\n",
        "v_cylinder = math.pi * r**2 * h\n",
        "\n",
        "# Λήψη εισόδου για τον κύβο\n",
        "a = float(input(\"Enter the side length of the cube: \"))\n",
        "\n",
        "# Υπολογισμός όγκου κύβου\n",
        "v_cube = a**3\n",
        "\n",
        "print(f\"\\nVolume of the cylinder: {v_cylinder:.2f}\")\n",
        "print(f\"Volume of the cube: {v_cube:.2f}\")\n",
        "\n",
        "# Σύγκριση όγκων και εμφάνιση αποτελέσματος\n",
        "if v_cylinder > v_cube:\n",
        "    percentage_difference = ((v_cylinder - v_cube) / v_cube) * 100\n",
        "    print(f\"\\nCylinder has a larger volume than the cube by {percentage_difference:.2f}%.\")\n",
        "elif v_cube > v_cylinder:\n",
        "    percentage_difference = ((v_cube - v_cylinder) / v_cylinder) * 100\n",
        "    print(f\"\\nCube has a larger volume than the cylinder by {percentage_difference:.2f}%.\")\n",
        "else:\n",
        "    print(\"\\nThe cylinder and cube have the same volume.\")\n"
      ]
    },
    {
      "cell_type": "markdown",
      "id": "6bcd25f8",
      "metadata": {
        "id": "6bcd25f8"
      },
      "source": [
        "### Εντολές επανάληψης\n",
        "1.2 Γράψτε κώδικα που να εκτυπώνει τους ακέραιους από το 1 μέχρι και το 100. Όμως, αν ο αριθμός είναι πολλαπλάσιο του 3 τότε να εκτυπώνει Fizz, αν είναι πολλαπλάσιο του 5 το Buzz, ενώ αν είναι πολλαπλάσιο του 3 και του 5 τότε να εκτυπωνει FizzBuzz.\n",
        "\n",
        "Διαβάστε και το <https://blog.codinghorror.com/why-cant-programmers-program/>"
      ]
    },
    {
      "cell_type": "code",
      "execution_count": 1,
      "id": "0f9dfe49",
      "metadata": {
        "colab": {
          "base_uri": "https://localhost:8080/"
        },
        "id": "0f9dfe49",
        "outputId": "59b2d6be-7dcd-4cd8-c814-95f10450b70a"
      },
      "outputs": [
        {
          "name": "stdout",
          "output_type": "stream",
          "text": [
            "1 \n",
            "2 \n",
            "3 Fizz \n",
            "4 \n",
            "5 Buzz \n",
            "6 Fizz \n",
            "7 \n",
            "8 \n",
            "9 Fizz \n",
            "10 Buzz \n",
            "11 \n",
            "12 Fizz \n",
            "13 \n",
            "14 \n",
            "15 FizzBuzz \n",
            "16 \n",
            "17 \n",
            "18 Fizz \n",
            "19 \n",
            "20 Buzz \n",
            "21 Fizz \n",
            "22 \n",
            "23 \n",
            "24 Fizz \n",
            "25 Buzz \n",
            "26 \n",
            "27 Fizz \n",
            "28 \n",
            "29 \n",
            "30 FizzBuzz \n",
            "31 \n",
            "32 \n",
            "33 Fizz \n",
            "34 \n",
            "35 Buzz \n",
            "36 Fizz \n",
            "37 \n",
            "38 \n",
            "39 Fizz \n",
            "40 Buzz \n",
            "41 \n",
            "42 Fizz \n",
            "43 \n",
            "44 \n",
            "45 FizzBuzz \n",
            "46 \n",
            "47 \n",
            "48 Fizz \n",
            "49 \n",
            "50 Buzz \n",
            "51 Fizz \n",
            "52 \n",
            "53 \n",
            "54 Fizz \n",
            "55 Buzz \n",
            "56 \n",
            "57 Fizz \n",
            "58 \n",
            "59 \n",
            "60 FizzBuzz \n",
            "61 \n",
            "62 \n",
            "63 Fizz \n",
            "64 \n",
            "65 Buzz \n",
            "66 Fizz \n",
            "67 \n",
            "68 \n",
            "69 Fizz \n",
            "70 Buzz \n",
            "71 \n",
            "72 Fizz \n",
            "73 \n",
            "74 \n",
            "75 FizzBuzz \n",
            "76 \n",
            "77 \n",
            "78 Fizz \n",
            "79 \n",
            "80 Buzz \n",
            "81 Fizz \n",
            "82 \n",
            "83 \n",
            "84 Fizz \n",
            "85 Buzz \n",
            "86 \n",
            "87 Fizz \n",
            "88 \n",
            "89 \n",
            "90 FizzBuzz \n",
            "91 \n",
            "92 \n",
            "93 Fizz \n",
            "94 \n",
            "95 Buzz \n",
            "96 Fizz \n",
            "97 \n",
            "98 \n",
            "99 Fizz \n",
            "100 Buzz \n"
          ]
        }
      ],
      "source": [
        "# Λύση 1.2\n",
        "\n",
        "for number in range(1, 101):\n",
        "    print(number, end=\" \")\n",
        "    if number % 3 == 0 and number % 5 == 0:\n",
        "        print(\"FizzBuzz\", end=\" \")\n",
        "    elif number % 3 == 0:\n",
        "        print(\"Fizz\", end=\" \")\n",
        "    elif number % 5 == 0:\n",
        "        print(\"Buzz\", end=\" \")\n",
        "    print(\"\")\n"
      ]
    },
    {
      "cell_type": "markdown",
      "id": "7c527770",
      "metadata": {
        "id": "7c527770"
      },
      "source": [
        "### Συναρτήσεις\n",
        "1.3 Γράψτε μια συνάρτηση `dictance(x1, y1, x2, y2)` που να επιστρέφει την απόσταση των σημείων (x1, y1) και (x2, y2) στο καρτεσιανό επίπεδο. Ορίστε ως default τιμές για τις παραμέτρους x2 και y2 το μηδέν. Για δύο σημεία Α και Β, τις συντεταγμένες των οποίων θα δίνει ο χρήστης, εντοπίστε και εκτυπώστε την μεταξύ τους απόσταση καθώς και την απόσταση που έχει το κάθε σημείο από την αρχή των αξόνων.\n",
        "\n",
        "\n",
        "Παρατήρηση: Η απόσταση μεταξύ του σημείου (x1, y1) και του σημείου (x2, y2) στο καρτεσιανό επίπεδο δίνεται από τον τύπο: $\\sqrt{(x_2 - x_1)^2 + (y_2-y_1)^2}$"
      ]
    },
    {
      "cell_type": "code",
      "execution_count": 2,
      "id": "3uz54Rmbfz3H",
      "metadata": {
        "colab": {
          "base_uri": "https://localhost:8080/"
        },
        "id": "3uz54Rmbfz3H",
        "outputId": "758d52c4-563a-4c9c-8c16-29601186bc77"
      },
      "outputs": [
        {
          "name": "stdout",
          "output_type": "stream",
          "text": [
            "\n",
            "Distance between point A and point B: 20124.61\n",
            "Distance of point A from the origin: 20024.98\n",
            "Distance of point B from the origin: 10198.04\n"
          ]
        }
      ],
      "source": [
        "# Λύση 1.3\n",
        "import math\n",
        "\n",
        "def distance(x1, y1, x2=0, y2=0):\n",
        "  \"\"\"Υπολογίζει την απόσταση μεταξύ δύο σημείων (x1, y1) και (x2, y2).\n",
        "\n",
        "  Args:\n",
        "    x1: Η τετμημένη (x-συντεταγμένη) του πρώτου σημείου.\n",
        "    y1: Η τεταγμένη (y-συντεταγμένη) του πρώτου σημείου.\n",
        "    x2: Η τετμημένη (x-συντεταγμένη) του δεύτερου σημείου (προεπιλογή 0).\n",
        "    y2: Η τεταγμένη (y-συντεταγμένη) του δεύτερου σημείου (προεπιλογή 0).\n",
        "\n",
        "  Returns:\n",
        "    Η απόσταση μεταξύ των δύο σημείων.\n",
        "  \"\"\"\n",
        "  return math.sqrt((x2 - x1)**2 + (y2 - y1)**2)\n",
        "\n",
        "# Λήψη εισόδου για τα σημεία Α και Β\n",
        "xA = float(input(\"Enter the x-coordinate for point A: \"))\n",
        "yA = float(input(\"Enter the y-coordinate for point A: \"))\n",
        "xB = float(input(\"Enter the x-coordinate for point B: \"))\n",
        "yB = float(input(\"Enter the y-coordinate for point B: \"))\n",
        "\n",
        "# Υπολογισμός και εκτύπωση της απόστασης μεταξύ Α και Β\n",
        "distance_AB = distance(xA, yA, xB, yB)\n",
        "print(f\"\\nDistance between point A and point B: {distance_AB:.2f}\")\n",
        "\n",
        "# Υπολογισμός και εκτύπωση της απόστασης του Α από την αρχή των αξόνων (0,0)\n",
        "distance_A_origin = distance(xA, yA)\n",
        "print(f\"Distance of point A from the origin: {distance_A_origin:.2f}\")\n",
        "\n",
        "# Υπολογισμός και εκτύπωση της απόστασης του Β από την αρχή των αξόνων (0,0)\n",
        "distance_B_origin = distance(xB, yB)\n",
        "print(f\"Distance of point B from the origin: {distance_B_origin:.2f}\")\n"
      ]
    },
    {
      "cell_type": "markdown",
      "id": "19f4ab8b",
      "metadata": {
        "id": "19f4ab8b"
      },
      "source": [
        "## Δομές Δεδομένων (λίστες και λεξικά)\n",
        "\n",
        "1.4 Γράψτε κώδικα που να χρησιμοποιεί το κείμενο από το Zen of Python του Tim Peters.\n",
        "1. Αφαιρέστε σύμβολα αλλαγής γραμμής \"\\n\", καθώς και αστεράκια \"*\", παύλες \"-\", κόμματα \",\" και τελείες \".\" και μετατρέψτε τους χαρακτήρες του κειμένου σε κεφαλαία.\n",
        "2. Αποθηκεύεστε σε μια λίστα τις λέξεις χωρίς να υπάρχουν διπλότυπα.\n",
        "3. Δημιουργήστε ένα λεξικό με κλειδιά τις λέξεις του κειμένου και τιμή κάθε κλειδιού το πόσες φορές υπάρχει στο κείμενο.\n",
        "4. Ζητήστε από το χρήστη να εισάγει μια λέξη. Αν υπάρχει στο κείμενο να εμφανίζει τη λέξη και πόσες φορές υπάρχει. Αν δεν υπάρχει να εμφανίζει το μήνυμα \"Η λέξη <λέξη_του_χρήστη> δεν είναι πολύ ζεν!\".\n",
        "\n",
        "Παρατήρηση: με τον ακόλουθο κώδικα μπορείτε να λάβετε στη μεταβλητή s το κείμενο που ζητείται.\n",
        "```\n",
        "import this\n",
        "import codecs\n",
        "\n",
        "s = codecs.encode(this.s, 'rot13')\n",
        "```\n",
        "\n",
        "\n",
        "Τι είναι το rot13; 😅"
      ]
    },
    {
      "cell_type": "code",
      "execution_count": null,
      "id": "123597aa",
      "metadata": {},
      "outputs": [],
      "source": []
    },
    {
      "cell_type": "code",
      "execution_count": 3,
      "id": "22a8a73e",
      "metadata": {
        "colab": {
          "base_uri": "https://localhost:8080/"
        },
        "id": "22a8a73e",
        "outputId": "caed8c3a-ea44-45a7-8b24-50a839266e5f"
      },
      "outputs": [
        {
          "name": "stdout",
          "output_type": "stream",
          "text": [
            "The Zen of Python, by Tim Peters\n",
            "\n",
            "Beautiful is better than ugly.\n",
            "Explicit is better than implicit.\n",
            "Simple is better than complex.\n",
            "Complex is better than complicated.\n",
            "Flat is better than nested.\n",
            "Sparse is better than dense.\n",
            "Readability counts.\n",
            "Special cases aren't special enough to break the rules.\n",
            "Although practicality beats purity.\n",
            "Errors should never pass silently.\n",
            "Unless explicitly silenced.\n",
            "In the face of ambiguity, refuse the temptation to guess.\n",
            "There should be one-- and preferably only one --obvious way to do it.\n",
            "Although that way may not be obvious at first unless you're Dutch.\n",
            "Now is better than never.\n",
            "Although never is often better than *right* now.\n",
            "If the implementation is hard to explain, it's a bad idea.\n",
            "If the implementation is easy to explain, it may be a good idea.\n",
            "Namespaces are one honking great idea -- let's do more of those!\n",
            "{'ENOUGH': 1, 'AT': 1, 'OF': 3, 'FLAT': 1, 'FIRST': 1, 'AND': 1, 'SHOULD': 2, 'COMPLEX': 2, 'EXPLICITLY': 1, 'TEMPTATION': 1, 'COMPLICATED': 1, 'OFTEN': 1, 'NOT': 1, 'PETERS': 1, 'ZEN': 1, 'ERRORS': 1, 'IMPLICIT': 1, 'BAD': 1, 'GUESS': 1, 'EXPLAIN': 2, 'HONKING': 1, 'EASY': 1, 'IN': 1, 'OBVIOUS': 2, 'RIGHT': 1, 'TIM': 1, 'UGLY': 1, 'NOW': 2, 'IDEA': 3, 'THOSE!': 1, 'PREFERABLY': 1, 'IT': 2, 'ARE': 1, 'BETTER': 8, \"AREN'T\": 1, 'THERE': 1, 'MORE': 1, 'REFUSE': 1, 'A': 2, 'SPECIAL': 2, 'DUTCH': 1, 'SILENCED': 1, 'IMPLEMENTATION': 2, 'GREAT': 1, 'THAN': 8, 'EXPLICIT': 1, 'SPARSE': 1, \"YOU'RE\": 1, 'BREAK': 1, \"IT'S\": 1, 'THE': 6, 'BY': 1, 'NESTED': 1, 'RULES': 1, 'DO': 2, 'BEATS': 1, 'DENSE': 1, 'NEVER': 3, 'GOOD': 1, 'NAMESPACES': 1, 'PRACTICALITY': 1, 'PYTHON': 1, 'AMBIGUITY': 1, 'TO': 5, 'ALTHOUGH': 3, 'MAY': 2, \"LET'S\": 1, 'READABILITY': 1, 'PURITY': 1, 'CASES': 1, 'THAT': 1, 'ONE': 3, 'BE': 3, 'SIMPLE': 1, 'IF': 2, 'ONLY': 1, 'PASS': 1, 'UNLESS': 2, 'FACE': 1, 'SILENTLY': 1, 'HARD': 1, 'WAY': 2, 'IS': 10, 'COUNTS': 1, 'BEAUTIFUL': 1}\n",
            "Η λέξη FOR δεν είναι πολύ ζεν!\n"
          ]
        }
      ],
      "source": [
        "# Λύση 1.4\n",
        "from os import read\n",
        "from typing import List\n",
        "import this\n",
        "import codecs\n",
        "\n",
        "# Κάνουμε import τον \"Zen of Python\" και τον κωδικοποιούμε με rot13 (έτσι αποκαλύπτεται το κείμενο)\n",
        "s = codecs.encode(this.s, 'rot13')\n",
        "\n",
        "# Αφαιρούμε αλλαγές γραμμής και σημεία στίξης, και μετατρέπουμε σε κεφαλαία\n",
        "s=s.replace('\\n', ' ').replace('*', '').replace('-', '').replace(',', '').replace('.', '')\n",
        "s=s.upper()\n",
        "\n",
        "# Διαχωρίζουμε το κείμενο σε λέξεις\n",
        "words=s.split()\n",
        "\n",
        "# Φτιάχνουμε ένα set για να βρούμε τις μοναδικές λέξεις\n",
        "SetOfWords= set(words)\n",
        "\n",
        "# Μετατρέπουμε το set σε λίστα\n",
        "ListOfWords=list(SetOfWords)\n",
        "\n",
        "# Δημιουργούμε λεξικό που θα αποθηκεύει τις λέξεις και πόσες φορές εμφανίζονται\n",
        "dictOfWords={}\n",
        "\n",
        "# Για κάθε μοναδική λέξη, μετράμε τις εμφανίσεις της στη λίστα words\n",
        "for word in ListOfWords:\n",
        "  dictOfWords[word]=words.count(word)\n",
        "\n",
        "# Εκτυπώνουμε το λεξικό με τις συχνότητες των λέξεων\n",
        "print(dictOfWords)\n",
        "\n",
        "# Διαβάζουμε μια λέξη από τον χρήστη (την κάνουμε κεφαλαία για συνέπεια)\n",
        "UserWord = input(\"Δώσε λέξη (στα αγγλικά): \").strip().upper()\n",
        "\n",
        "# Ελέγχουμε αν η λέξη υπάρχει στο λεξικό και εμφανίζουμε το πλήθος\n",
        "if UserWord in dictOfWords:\n",
        "  print(f\"Η λέξη {UserWord} υπάρχει στο κείμενο {dictOfWords[UserWord]} φορές.\")\n",
        "else:\n",
        "    print(f\"Η λέξη {UserWord} δεν είναι πολύ ζεν!\")\n",
        "\n"
      ]
    },
    {
      "cell_type": "markdown",
      "id": "64cbf704",
      "metadata": {
        "id": "64cbf704"
      },
      "source": [
        "1.5 Η απόσταση ανάμεσα σε 2 τοποθεσίες στην Γη δίνεται με ακρίβεια από τον [τύπο του Haversine](https://en.wikipedia.org/wiki/Haversine_formula). Στη συζήτηση <https://stackoverflow.com/questions/4913349/haversine-formula-in-python-bearing-and-distance-between-two-gps-points> στο stackoverflow μπορείτε να βρείτε μια καλή υλοποίηση σε Python. Επίσης, υπάρχουν packages στην Python, όπως το https://pypi.org/project/haversine/ που μπορούν να εγκατασταθούν με το pip και να γίνει απευθείας υπολογισμός της απόστασης με συνάρτηση του πακέτου.\n",
        "\n",
        "Υπολογίστε την απόσταση ανάμεσα στην Αθήνα και στο Βερολίνο τόσο με την υλοποίηση της συνάρτησης από το stackoverflow όσο και με το εξωτερικό πακέτο haversine και επιβεβαιώστε ότι επιστρέφουν (περίπου) την ίδια τιμή σε χιλιόμετρα.\n",
        "\n",
        "```\n",
        "athens = (23.7348324, 37.9755648) # (longitude, latitude)\n",
        "berlin = (13.3989367, 52.510885) # (longitude, latitude)\n",
        "```"
      ]
    },
    {
      "cell_type": "code",
      "execution_count": 7,
      "id": "fqGWaUQu0RxX",
      "metadata": {
        "colab": {
          "base_uri": "https://localhost:8080/"
        },
        "id": "fqGWaUQu0RxX",
        "outputId": "f7fca18e-f365-4c55-c2f1-4b871681109f"
      },
      "outputs": [
        {
          "name": "stdout",
          "output_type": "stream",
          "text": [
            "/workspaces/inepekddalearningpython/.venv/bin/python\n",
            "Απόσταση με υλοποίηση haversine: 1803.31 km\n",
            "Απόσταση με πακέτο haversine:    1803.31 km\n",
            "Διαφορά: 0.002491 km\n"
          ]
        }
      ],
      "source": [
        "# Λύση 1.5\n",
        "import math\n",
        "from haversine import haversine, Unit\n",
        "import sys; print(sys.executable)\n",
        "\n",
        "# --- Συνάρτηση Haversine (υλοποίηση από StackOverflow) ---\n",
        "def haversine_formula(lon1, lat1, lon2, lat2):\n",
        "    # Μετατροπή σε ακτίνια\n",
        "    lon1, lat1, lon2, lat2 = map(math.radians, [lon1, lat1, lon2, lat2])\n",
        "    dlon = lon2 - lon1\n",
        "    dlat = lat2 - lat1\n",
        "\n",
        "    a = math.sin(dlat/2)**2 + math.cos(lat1) * math.cos(lat2) * math.sin(dlon/2)**2\n",
        "    c = 2 * math.asin(math.sqrt(a))\n",
        "\n",
        "    R = 6371  # Ακτίνα Γης σε km\n",
        "    return R * c\n",
        "\n",
        "# --- Συντεταγμένες ---\n",
        "athens = (23.7348324, 37.9755648)   # (lon, lat)\n",
        "berlin = (13.3989367, 52.510885)    # (lon, lat)\n",
        "\n",
        "# Υπολογισμός με \"χειροκίνητη\" υλοποίηση\n",
        "dist1 = haversine_formula(*athens, *berlin)\n",
        "\n",
        "# Υπολογισμός με το πακέτο haversine (προσοχή: εδώ θέλει (lat, lon))\n",
        "athens_h = (athens[1], athens[0]) # Corrected order for haversine package\n",
        "berlin_h = (berlin[1], berlin[0]) # Corrected order for haversine package\n",
        "dist2 = haversine(athens_h, berlin_h, unit=Unit.KILOMETERS)\n",
        "\n",
        "# Εκτύπωση και σύγκριση\n",
        "print(f\"Απόσταση με υλοποίηση haversine: {dist1:.2f} km\")\n",
        "print(f\"Απόσταση με πακέτο haversine:    {dist2:.2f} km\")\n",
        "print(f\"Διαφορά: {abs(dist1 - dist2):.6f} km\")"
      ]
    }
  ],
  "metadata": {
    "colab": {
      "provenance": []
    },
    "kernelspec": {
      "display_name": ".venv",
      "language": "python",
      "name": "python3"
    },
    "language_info": {
      "codemirror_mode": {
        "name": "ipython",
        "version": 3
      },
      "file_extension": ".py",
      "mimetype": "text/x-python",
      "name": "python",
      "nbconvert_exporter": "python",
      "pygments_lexer": "ipython3",
      "version": "3.12.1"
    }
  },
  "nbformat": 4,
  "nbformat_minor": 5
}
